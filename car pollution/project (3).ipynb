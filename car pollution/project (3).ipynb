{
 "cells": [
  {
   "cell_type": "markdown",
   "metadata": {},
   "source": [
    "### Exploratory Data Analysis:\n",
    "- variable target : CO2, wich is the emission of CO2 of the car in Kilogram of carbon dioxide equivalent\n",
    "- Number of rows and columns: df.shape or df.shape[0] + df.shape[1]\n",
    "- variables types: df.dtypes\n",
    "- number of different variables: df.dtypes.valuecounts().plot.pie()\n",
    "- rows where there is no values: df.isna()\n",
    "- None values\n",
    "### clean the datas:\n",
    "- Erase empty column: df=df[df.columns[df.isna().sum()/df.shape[0] < 0.9]] \n",
    "  * we want to erase the columns that have less 90% of missing values\n",
    "- if we want to erase another column df= df.drop('name of the column', axis=1)\n",
    "- to do the plot of the main variable we can use:\n",
    " * sns.distplot(df['C02'])\n",
    " * plt.hist(x, bins, density = True)/plt.show()\n",
    "### Analysis of continous variables:\n",
    "- we want to analyse all the data that are continuous :\n",
    "  * for col in df.select_dtypes('float'):\n",
    "  * plt.figure()\n",
    "  * sns.distplot(df[col])\n",
    "### Analysis of discrete variables:\n",
    "  * sns.distplot(df[''])\n",
    "### Analysis of categorical variables:\n",
    "  * for col in df.select_dtypes('object'):\n",
    "  * plt.figure()\n",
    "  * sns.distplot(df[col])\n",
    "  * print(col, df[col].unique()) (this is to know wich values is associated to the row)\n",
    "  * for col in df.select_dtypes('object'):\n",
    "  * plt.figure()\n",
    "  * df[col].value_counts().plot.pie() (this to know the answer for every vehicle)\n",
    "  \n",
    "\n",
    "\n",
    "\n",
    "\n",
    "\n"
   ]
  },
  {
   "cell_type": "markdown",
   "metadata": {},
   "source": [
    "# README FILE:\n",
    "# Dataset Analysis\n",
    "\n",
    "Today, pollution from the transport sector accounts for 60.6% of total pollution in europe. That's why so many people are wondering whether they should buy a car to reduce pollution. In this dataset, we'll look at the different parameters that increase vehicle pollution, and how to choose the least polluting car possible.\n",
    "## The Data\n",
    "- **What are the data?**  \n",
    "  This dataset contains information about Cars, like their CO2 emissions, but also their horsepower, if they are hybrid or not, etc...\n",
    "\n",
    "- **Where do they come from?**  \n",
    "  https://www.data.gouv.fr/fr/datasets/emissions-de-co2-et-de-polluants-des-vehicules-commercialises-en-france/\n",
    "\n",
    "- **Data provenance:**  \n",
    "  The provenance of the data is https://www.data.gouv.fr/fr/datasets/emissions-de-co2-et-de-polluants-des-vehicules-commercialises-en-france/ wich is the web site of the French government. It provides lots information about France.\n",
    "\n",
    "- **Census or sample:**  \n",
    "  it's a sample by Cars.\n",
    "\n",
    "- **Raw or processed:**  \n",
    "  processed because we removed lot's of column like lib-mob-doss which was representing the name of the model in the administrative file or the date because all the datas are from march 2014.\n",
    "\n",
    "\n",
    "- **Describe the units, size of the sample/population:**  \n",
    "  - **Units:** Each row represents one different Cars.  \n",
    "  - **Population/Sample size:**  5504 Cars.\n",
    "\n",
    "- **Number of variables:**  \n",
    "  11 columns (variables).\n",
    "\n",
    "## Variables Description\n",
    "\n",
    "\n",
    "1. **`lib_mrc`**  \n",
    "   This variable represents the brand name of the Car. It is a categorical variable.\n",
    "\n",
    "2. **`lib_mod\t`**  \n",
    "   It represents the model name of the Car. It is a categorical variable.\n",
    "\n",
    "3. **`cnit`** \n",
    "    The CNIT, or Code National d'Identification du Type (National Type Identification Code), is a code created by the manufacturer and then approved by the French government to identify the vehicle model defined by its technical characteristics (engine, version, etc.).\n",
    "    It is shown in box D.2 of the vehicle registration certificate. It is a categorical variable.\n",
    "4. **`cod_cbr`** \n",
    "    This variable reprensents the fuel code, that's the fuel name used to power the car. In the data set, here are some examples 'ES' for petrol or 'GO' for diesel, 'EE' for ethanol, 'GP' for LPG etc... It is a categorical variable.\n",
    "5. **`hybride`** \n",
    "    This variable shows if a car is hybride or not. the two output are 'yes' or 'no'. It is a categorical variable.\n",
    "6. **`Puissadmin`** \n",
    "    This variable represents the administrative horsepower (or fiscal horsepower) is a value expressed in fiscal horsepower (HP), used in France to calculate the cost of vehicle registration (carte grise), and in some cases for insurance purposes. It is a discrete variable that goes from 1 to 81hp.\n",
    "7. **`puiss_max`** \n",
    "    It represents the maximum power of the car. It is a discrete variable that goes from 10 to 560 hp\n",
    "8. **`typ_boite_nb_rapp`** \n",
    "    It represents the type of gearbox of the car. It's a categorical variable. There is a letter followed by a number. the letter is the type of Gearbox, like 'M' for Manual, and the number is the number of gear ratios.\n",
    "9. **`conso_mixte`** \n",
    "   This varaible represents the average consumption of the car in L/100 Km. It's a continuous variable that goes from 0.6 to 24.5 L/100 Km.\n",
    "10. **`C02`**\n",
    "   This varaible represents the C02 emissions of the Car in g/km. it's a continuous variable that goes from 13 to 572 g/Km.\n",
    "11. **`masse_ordma_max`**\n",
    "   This variable shows the weight of the car with full tank, the oil, all the options,... the maximum weight of the car. It's a continuous variable that goes from 825 to 3094 Kg.\n",
    "\n"
   ]
  },
  {
   "cell_type": "code",
   "execution_count": null,
   "metadata": {},
   "outputs": [],
   "source": [
    "import pandas as pd\n",
    "import numpy as np\n",
    "import matplotlib.pyplot as plt\n",
    "import seaborn as sns\n",
    "import scipy.stats as st\n",
    "import jupyprint as jp\n",
    "\n"
   ]
  },
  {
   "cell_type": "code",
   "execution_count": null,
   "metadata": {},
   "outputs": [],
   "source": [
    "df=pd.read_csv(\"mars-2014-complete.csv\", on_bad_lines='skip', sep=';')\n",
    "df"
   ]
  },
  {
   "cell_type": "code",
   "execution_count": null,
   "metadata": {},
   "outputs": [],
   "source": [
    "df.shape[0]"
   ]
  },
  {
   "cell_type": "code",
   "execution_count": null,
   "metadata": {},
   "outputs": [],
   "source": [
    "df.shape[1]"
   ]
  },
  {
   "cell_type": "code",
   "execution_count": null,
   "metadata": {},
   "outputs": [],
   "source": [
    "df.dtypes"
   ]
  },
  {
   "cell_type": "code",
   "execution_count": null,
   "metadata": {},
   "outputs": [],
   "source": [
    "df.describe()"
   ]
  },
  {
   "cell_type": "code",
   "execution_count": null,
   "metadata": {},
   "outputs": [],
   "source": [
    "df['puiss_max']=pd.to_numeric(df['puiss_max'], errors='coerce')\n",
    "df['conso_mixte']=pd.to_numeric(df['conso_mixte'], errors='coerce')\n",
    "df.describe()"
   ]
  },
  {
   "cell_type": "code",
   "execution_count": null,
   "metadata": {},
   "outputs": [],
   "source": [
    "df.isna()"
   ]
  },
  {
   "cell_type": "code",
   "execution_count": null,
   "metadata": {},
   "outputs": [],
   "source": [
    "df=df.sample(n=2000)\n",
    "df.isna()\n",
    "df"
   ]
  },
  {
   "cell_type": "code",
   "execution_count": null,
   "metadata": {},
   "outputs": [],
   "source": [
    "df.describe()"
   ]
  },
  {
   "cell_type": "code",
   "execution_count": null,
   "metadata": {},
   "outputs": [],
   "source": [
    "df.to_csv('sampledataset.csv', index=False)"
   ]
  },
  {
   "cell_type": "code",
   "execution_count": null,
   "metadata": {},
   "outputs": [],
   "source": [
    "n=len(df)\n",
    "n"
   ]
  },
  {
   "cell_type": "code",
   "execution_count": null,
   "metadata": {},
   "outputs": [],
   "source": [
    "df = df.filter(items=[\"lib_mrq\", \"lib_mod\", \"cnit\", \"cod_cbr\", \"hybride\", \"puiss_admin_98\", \"puiss_max\", \"typ_boite_nb_rapp\" ,\"conso_mixte\",\"co2\",\"masse_ordma_max\"])\n",
    "df"
   ]
  },
  {
   "cell_type": "code",
   "execution_count": null,
   "metadata": {},
   "outputs": [],
   "source": [
    "df.describe()"
   ]
  },
  {
   "cell_type": "code",
   "execution_count": null,
   "metadata": {},
   "outputs": [],
   "source": [
    "df.shape\n"
   ]
  },
  {
   "cell_type": "markdown",
   "metadata": {},
   "source": [
    "# II - Description of some variables"
   ]
  },
  {
   "cell_type": "markdown",
   "metadata": {},
   "source": [
    "## Puiss_admin visualisation"
   ]
  },
  {
   "cell_type": "code",
   "execution_count": null,
   "metadata": {},
   "outputs": [],
   "source": [
    "x = np.array(df['puiss_admin_98'][:])\n",
    "x"
   ]
  },
  {
   "cell_type": "code",
   "execution_count": null,
   "metadata": {},
   "outputs": [],
   "source": [
    "levels, ni = np.unique(x, return_counts = True) \n",
    "fi = ni/n\n",
    "Fi = np.cumsum(fi)\n",
    "ft = pd.DataFrame(data = np.transpose([ni, fi, Fi]), index = levels, columns = ['frequencies', 'relative frequencies', 'cummulative relative frequencies'])\n",
    "ft"
   ]
  },
  {
   "cell_type": "code",
   "execution_count": null,
   "metadata": {},
   "outputs": [],
   "source": [
    "positions = levels\n",
    "\n",
    "plt.bar(positions, fi, width = 0.7)\n",
    "plt.xticks(positions, levels) \n",
    "plt.ylabel('relative frequencies')\n",
    "plt.xlabel('puiss_admin')\n",
    "plt.figure(figsize= (30, 15))\n",
    "plt.show()"
   ]
  },
  {
   "cell_type": "code",
   "execution_count": null,
   "metadata": {},
   "outputs": [],
   "source": [
    "plt.plot(positions, ni)\n",
    "plt.ylabel('frequencies')\n",
    "plt.xlabel('puiss_admin')\n",
    "plt.show()"
   ]
  },
  {
   "cell_type": "markdown",
   "metadata": {},
   "source": [
    "## Puiss_max visualisation"
   ]
  },
  {
   "cell_type": "code",
   "execution_count": null,
   "metadata": {},
   "outputs": [],
   "source": [
    "x = np.array(df['puiss_max'][:])\n",
    "x"
   ]
  },
  {
   "cell_type": "code",
   "execution_count": null,
   "metadata": {},
   "outputs": [],
   "source": [
    "levels, ni = np.unique(x, return_counts = True) \n",
    "fi = ni/n\n",
    "Fi = np.cumsum(fi)\n",
    "ft = pd.DataFrame(data = np.transpose([ni, fi, Fi]), index = levels, columns = ['frequencies', 'relative frequencies', 'cummulative relative frequencies'])\n",
    "ft = ft.sort_values(by='frequencies', ascending=False).head(5)\n",
    "ft"
   ]
  },
  {
   "cell_type": "code",
   "execution_count": null,
   "metadata": {},
   "outputs": [],
   "source": [
    "positions = levels\n",
    "\n",
    "plt.bar(positions, fi, width = 0.7)\n",
    "plt.xticks(positions, levels) \n",
    "plt.ylabel('relative frequencies')\n",
    "plt.xlabel('puiss_max')\n",
    "plt.figure(figsize= (30, 15))\n",
    "plt.tight_layout()\n",
    "plt.show()"
   ]
  },
  {
   "cell_type": "code",
   "execution_count": null,
   "metadata": {},
   "outputs": [],
   "source": [
    "plt.plot(positions, ni)\n",
    "plt.ylabel('frequencies')\n",
    "plt.xlabel('puiss_max')\n",
    "plt.show()"
   ]
  },
  {
   "cell_type": "markdown",
   "metadata": {},
   "source": [
    "## Cod_cbr visualisation"
   ]
  },
  {
   "cell_type": "code",
   "execution_count": null,
   "metadata": {},
   "outputs": [],
   "source": [
    "x = np.array(df['cod_cbr'][:])\n",
    "x"
   ]
  },
  {
   "cell_type": "code",
   "execution_count": null,
   "metadata": {},
   "outputs": [],
   "source": [
    "levels, ni = np.unique(x, return_counts = True) \n",
    "fi = ni/n\n",
    "ft = pd.DataFrame(data = np.transpose([ni, fi]), index = levels, columns = ['frequencies', 'relative frequencies'])\n",
    "ft = ft.sort_values(by='frequencies', ascending=False).head(3)\n",
    "\n",
    "levels = ft.index\n",
    "ni = ft['frequencies']\n",
    "ft"
   ]
  },
  {
   "cell_type": "code",
   "execution_count": null,
   "metadata": {},
   "outputs": [],
   "source": [
    "plt.bar(levels, ni)\n",
    "plt.ylabel('frequencies')\n",
    "plt.show()"
   ]
  },
  {
   "cell_type": "code",
   "execution_count": null,
   "metadata": {},
   "outputs": [],
   "source": [
    "plt.pie(ni, labels = levels, autopct='%1.3f%%')\n",
    "plt.show()"
   ]
  },
  {
   "cell_type": "markdown",
   "metadata": {},
   "source": [
    "These are the main cod_cbr on the data set but there exist others such as GP, GN...."
   ]
  },
  {
   "cell_type": "markdown",
   "metadata": {},
   "source": [
    "\n",
    "## Cnit visualisation "
   ]
  },
  {
   "cell_type": "code",
   "execution_count": null,
   "metadata": {},
   "outputs": [],
   "source": [
    "x = np.array(df['cnit'][:])\n",
    "x"
   ]
  },
  {
   "cell_type": "code",
   "execution_count": null,
   "metadata": {},
   "outputs": [],
   "source": [
    "levels, ni = np.unique(x, return_counts = True) \n",
    "fi = ni/n\n",
    "ft = pd.DataFrame(data = np.transpose([ni, fi]), index = levels, columns = ['frequencies', 'relative frequencies'])\n",
    "ft = ft.sort_values(by='frequencies', ascending=False)\n",
    "\n",
    "levels = ft.index\n",
    "ni = ft['frequencies']\n",
    "ft"
   ]
  },
  {
   "cell_type": "code",
   "execution_count": null,
   "metadata": {},
   "outputs": [],
   "source": [
    "plt.bar(levels, ni)\n",
    "plt.ylabel('frequencies')\n",
    "plt.show()"
   ]
  },
  {
   "cell_type": "code",
   "execution_count": null,
   "metadata": {},
   "outputs": [],
   "source": [
    "plt.pie(ni, labels = levels, autopct='%1.3f%%')\n",
    "plt.show()"
   ]
  },
  {
   "cell_type": "markdown",
   "metadata": {},
   "source": [
    "Those are The `IDs` of the car so it's normal that they all have the same frequency . Its not relevant to do further anlysis for this variable"
   ]
  },
  {
   "cell_type": "markdown",
   "metadata": {},
   "source": [
    "\n",
    "## lib_mrq visualisation "
   ]
  },
  {
   "cell_type": "code",
   "execution_count": null,
   "metadata": {},
   "outputs": [],
   "source": [
    "x = np.array(df['lib_mrq'][:]) \n",
    "x"
   ]
  },
  {
   "cell_type": "code",
   "execution_count": null,
   "metadata": {},
   "outputs": [],
   "source": [
    "levels, ni = np.unique(x, return_counts = True) \n",
    "levels, ni, sum(ni)\n",
    "n = len(df)\n",
    "fi = ni/n\n",
    "fi, sum(fi)\n",
    "ft_cartel = pd.DataFrame(data = np.transpose([ni, fi]), index = levels, columns = ['Frequencies', 'Relative Frequencies'])\n",
    "ft_cartel"
   ]
  },
  {
   "cell_type": "code",
   "execution_count": null,
   "metadata": {},
   "outputs": [],
   "source": [
    "ft_cartel = ft_cartel.sort_values(by='Frequencies', ascending=False)\n",
    "plt.figure(figsize=(12, 6)) \n",
    "plt.bar(ft_cartel.index, ft_cartel['Frequencies'])\n",
    "plt.ylabel('Frequencies')\n",
    "plt.xlabel('Models')\n",
    "plt.xticks(rotation=45) \n",
    "plt.show()"
   ]
  },
  {
   "cell_type": "markdown",
   "metadata": {},
   "source": [
    "There are a lot of existing models in this dataset i will take only the most relevent ones the `TOP 3 `"
   ]
  },
  {
   "cell_type": "code",
   "execution_count": null,
   "metadata": {},
   "outputs": [],
   "source": [
    "\n",
    "ft_cartel = ft_cartel.sort_values(by='Frequencies', ascending=False).head(3)\n",
    "plt.figure(figsize=(12, 6)) \n",
    "plt.bar(ft_cartel.index, ft_cartel['Frequencies'])\n",
    "plt.ylabel('Frequencies')\n",
    "plt.xlabel('Models')\n",
    "plt.show()"
   ]
  },
  {
   "cell_type": "code",
   "execution_count": null,
   "metadata": {},
   "outputs": [],
   "source": [
    "plt.pie(ft_cartel['Frequencies'], labels=ft_cartel.index, autopct='%1.3f%%')\n",
    "plt.show()"
   ]
  },
  {
   "cell_type": "markdown",
   "metadata": {},
   "source": [
    "We can see that the `MERCEDES` brand is the most common used followed by `Wolkswagen`"
   ]
  },
  {
   "cell_type": "markdown",
   "metadata": {},
   "source": [
    "## lib_mod Visualisation"
   ]
  },
  {
   "cell_type": "code",
   "execution_count": null,
   "metadata": {},
   "outputs": [],
   "source": [
    "x = np.array(df['lib_mod'][:]) \n",
    "x"
   ]
  },
  {
   "cell_type": "code",
   "execution_count": null,
   "metadata": {},
   "outputs": [],
   "source": [
    "levels, ni = np.unique(x, return_counts = True) \n",
    "levels, ni, sum(ni)\n",
    "n = len(df)\n",
    "\n",
    "fi = ni/n\n",
    "fi, sum(fi)\n",
    "ft_cartel = pd.DataFrame(data = np.transpose([ni, fi]), index = levels, columns = ['Frequencies', 'Relative Frequencies'])\n",
    "ft_cartel"
   ]
  },
  {
   "cell_type": "code",
   "execution_count": null,
   "metadata": {},
   "outputs": [],
   "source": [
    "ft_cartel = ft_cartel.sort_values(by='Frequencies', ascending=False)\n",
    "plt.figure(figsize=(12, 6)) \n",
    "plt.bar(ft_cartel.index, ft_cartel['Frequencies'])\n",
    "plt.ylabel('Frequencies')\n",
    "plt.xlabel('Models')\n",
    "plt.xticks(rotation=45) \n",
    " \n",
    "plt.show()"
   ]
  },
  {
   "cell_type": "markdown",
   "metadata": {},
   "source": [
    "There are a lot oh existing models in this dataset i will take only the most relevent ones the `TOP 4 `"
   ]
  },
  {
   "cell_type": "code",
   "execution_count": null,
   "metadata": {},
   "outputs": [],
   "source": [
    "ft_cartel = ft_cartel.sort_values(by='Frequencies', ascending=False).head(4)\n",
    "plt.figure(figsize=(12, 6)) \n",
    "plt.bar(ft_cartel.index, ft_cartel['Frequencies'])\n",
    "plt.ylabel('Frequencies')\n",
    "plt.xlabel('Models')\n",
    "plt.xticks(rotation=45) \n",
    " \n",
    "plt.show()"
   ]
  },
  {
   "cell_type": "code",
   "execution_count": null,
   "metadata": {},
   "outputs": [],
   "source": [
    "plt.pie(ft_cartel['Frequencies'], labels=ft_cartel.index, autopct='%1.3f%%')\n",
    "plt.show()"
   ]
  },
  {
   "cell_type": "markdown",
   "metadata": {},
   "source": [
    "We can see from this graph that ``Mercedes`` and ``Volkswagen`` remain in the race, with ``Volkswagen``'s ``Crafter`` as the most used model, followed by ``Mercedes``'s ``Vito``, ``Viano``, and ``Sprinter``"
   ]
  },
  {
   "cell_type": "markdown",
   "metadata": {},
   "source": [
    "## Co2 Visualisation"
   ]
  },
  {
   "cell_type": "code",
   "execution_count": null,
   "metadata": {},
   "outputs": [],
   "source": [
    "x = np.array(df['co2'][:])\n",
    "min(x), max(x)\n",
    "bins = np.array([0.,150,200,210,225,250,300,400])\n",
    "bins, len (bins)\n",
    "ni, bins = np.histogram(x, bins = bins)\n",
    "lo = bins[:-1]\n",
    "hi = bins[1:]\n",
    "fi = ni/n\n",
    "Fi = np.cumsum(fi)\n",
    "ft_quant = pd.DataFrame(data = np.transpose([lo, hi, ni, fi, Fi]), columns = ['lo', 'hi', 'frequencies', 'relative frequencies', 'cummulative relative frequencies'])\n",
    "ft_quant"
   ]
  },
  {
   "cell_type": "code",
   "execution_count": null,
   "metadata": {},
   "outputs": [],
   "source": [
    "plt.hist(x, bins, density = True)\n",
    "plt.show()"
   ]
  },
  {
   "cell_type": "code",
   "execution_count": null,
   "metadata": {},
   "outputs": [],
   "source": [
    "x = x[x > 0]\n",
    "plt.boxplot(x)\n",
    "plt.ylabel('g/km')\n",
    "plt.xticks([1], ['co2'])\n",
    "plt.show()\n"
   ]
  },
  {
   "cell_type": "markdown",
   "metadata": {},
   "source": [
    "## masse_ordma_max Visualisation"
   ]
  },
  {
   "cell_type": "code",
   "execution_count": null,
   "metadata": {},
   "outputs": [],
   "source": [
    "x = np.array(df['masse_ordma_max'][:])\n",
    "min(x), max(x)\n",
    "bins = np.array([0.,1500,2000,2500,2750,3200])\n",
    "bins, len (bins)\n",
    "ni, bins = np.histogram(x, bins = bins)\n",
    "lo = bins[:-1]\n",
    "hi = bins[1:]\n",
    "fi = ni/n\n",
    "Fi = np.cumsum(fi)\n",
    "ft_quant = pd.DataFrame(data = np.transpose([lo, hi, ni, fi, Fi]), columns = ['lo', 'hi', 'frequencies', 'relative frequencies', 'cummulative relative frequencies'])\n",
    "ft_quant"
   ]
  },
  {
   "cell_type": "code",
   "execution_count": null,
   "metadata": {},
   "outputs": [],
   "source": [
    "plt.hist(x, bins, density = True)\n",
    "plt.show()"
   ]
  },
  {
   "cell_type": "code",
   "execution_count": null,
   "metadata": {},
   "outputs": [],
   "source": [
    "\n",
    "plt.boxplot(x)\n",
    "plt.ylabel('g/km')\n",
    "plt.xticks([1], ['masse_ordma_max'])\n",
    "plt.show()\n"
   ]
  },
  {
   "cell_type": "markdown",
   "metadata": {},
   "source": [
    "## hybride Visualisation"
   ]
  },
  {
   "cell_type": "code",
   "execution_count": null,
   "metadata": {},
   "outputs": [],
   "source": [
    "n=len(df)\n",
    "x = np.array(df['hybride'][:]) \n",
    "levels, ni = np.unique(x, return_counts = True) \n",
    "levels, ni, sum(ni)"
   ]
  },
  {
   "cell_type": "code",
   "execution_count": null,
   "metadata": {},
   "outputs": [],
   "source": [
    "fi = ni/n\n",
    "fi, sum(fi)"
   ]
  },
  {
   "cell_type": "code",
   "execution_count": null,
   "metadata": {},
   "outputs": [],
   "source": [
    "ft_hybride = pd.DataFrame(data = np.transpose([ni, fi]), index = levels, columns = ['frequencies', 'relative frequencies'])\n",
    "ft_hybride"
   ]
  },
  {
   "cell_type": "code",
   "execution_count": null,
   "metadata": {},
   "outputs": [],
   "source": [
    "plt.bar(levels, ni)\n",
    "plt.ylabel('frequencies')\n",
    "plt.show()"
   ]
  },
  {
   "cell_type": "code",
   "execution_count": null,
   "metadata": {},
   "outputs": [],
   "source": [
    "plt.pie(ni, labels = levels, autopct='%1.1f%%')\n",
    "plt.show()"
   ]
  },
  {
   "cell_type": "markdown",
   "metadata": {},
   "source": [
    "That means that the majority of the vehicles of the dataset are not hybrid."
   ]
  },
  {
   "cell_type": "markdown",
   "metadata": {},
   "source": [
    "## conso_mixte Visualisation"
   ]
  },
  {
   "cell_type": "code",
   "execution_count": null,
   "metadata": {},
   "outputs": [],
   "source": [
    "x0 = np.array(df['conso_mixte'][:])\n",
    "min(x0), max(x0)\n",
    "bins = np.linspace(0, 100, 21) \n",
    "bins, len (bins)"
   ]
  },
  {
   "cell_type": "code",
   "execution_count": null,
   "metadata": {},
   "outputs": [],
   "source": [
    "bins = np.array([  0.,   5.,6,7,8,8.25,  10.,  15.])\n",
    "ni0 = np.histogram(x0, bins = bins)[0]  \n",
    "ni0"
   ]
  },
  {
   "cell_type": "code",
   "execution_count": null,
   "metadata": {},
   "outputs": [],
   "source": [
    "lo = bins[:-1]\n",
    "hi = bins[1:]\n",
    "fi0 = ni0/n\n",
    "Fi0 = np.cumsum(fi0)\n",
    "ft_conso_mixte = pd.DataFrame(data = np.transpose([lo, hi, ni0, fi0, Fi0]), columns = ['lo', 'hi', 'frequencies', 'relative frequencies', 'cummulative relative frequencies'])\n",
    "ft_conso_mixte"
   ]
  },
  {
   "cell_type": "code",
   "execution_count": null,
   "metadata": {},
   "outputs": [],
   "source": [
    "plt.hist(x0, bins, density = True)\n",
    "plt.show()"
   ]
  },
  {
   "cell_type": "code",
   "execution_count": null,
   "metadata": {},
   "outputs": [],
   "source": [
    "x0 = x0[x0 > 0]\n",
    "plt.boxplot(x0)\n",
    "plt.ylabel('L/100km')\n",
    "plt.xticks([1], ['conso_mixte'])\n",
    "plt.show()"
   ]
  },
  {
   "cell_type": "markdown",
   "metadata": {},
   "source": [
    "## typ_boite_nb_rapp Visualisation"
   ]
  },
  {
   "cell_type": "code",
   "execution_count": null,
   "metadata": {},
   "outputs": [],
   "source": [
    "x1 = np.array(df['typ_boite_nb_rapp'][:]) \n",
    "levels, ni = np.unique(x1, return_counts = True) \n",
    "levels, ni, sum(ni)"
   ]
  },
  {
   "cell_type": "code",
   "execution_count": null,
   "metadata": {},
   "outputs": [],
   "source": [
    "fi = ni/n\n",
    "fi, sum(fi)"
   ]
  },
  {
   "cell_type": "code",
   "execution_count": null,
   "metadata": {},
   "outputs": [],
   "source": [
    "ft_typ_boite_nb_rapp = pd.DataFrame(data = np.transpose([ni, fi]), index = levels, columns = ['frequencies', 'relative frequencies'])\n",
    "ft_typ_boite_nb_rapp"
   ]
  },
  {
   "cell_type": "code",
   "execution_count": null,
   "metadata": {},
   "outputs": [],
   "source": [
    "plt.bar(levels, ni)\n",
    "plt.ylabel('frequencies')\n",
    "plt.show()"
   ]
  },
  {
   "cell_type": "code",
   "execution_count": null,
   "metadata": {},
   "outputs": [],
   "source": [
    "plt.pie(ni, labels = levels, autopct='%1.1f%%')\n",
    "plt.show()"
   ]
  },
  {
   "cell_type": "markdown",
   "metadata": {},
   "source": [
    "It seems like the majority of the vehicles of this dataset are of manual transmission with 6 gears."
   ]
  },
  {
   "cell_type": "markdown",
   "metadata": {},
   "source": [
    "#  III : Simple linear regression"
   ]
  },
  {
   "cell_type": "code",
   "execution_count": null,
   "metadata": {},
   "outputs": [],
   "source": [
    "x = df.co2\n",
    "y = df.masse_ordma_max\n",
    "n=len(df)\n",
    "n"
   ]
  },
  {
   "cell_type": "code",
   "execution_count": null,
   "metadata": {},
   "outputs": [],
   "source": [
    "sns.scatterplot(data = df, x = 'co2', y = 'masse_ordma_max', marker = '*')\n",
    "plt.show()"
   ]
  },
  {
   "cell_type": "markdown",
   "metadata": {},
   "source": [
    "We assume a linear model. We have $n=2000$, with $x_{i}$ the value of the vehicle's maximum mass and $y_{i}$ its CO2 emission. So we consider the data to be a sample of size $n$:\n",
    "$n$-sample $((X_1,Y_1),...,(X_n,Y_n))$\n",
    "We suppose that:\n",
    "\n",
    "$Y_i = a + b\\, x_i$ + $\\varepsilon_{i}$ with $i\\in\\{1,...,n\\}$\n",
    "\n",
    "where $\\varepsilon_1$, ..., $\\varepsilon_n$ are independent and distributed as $\\mathcal{N}(0,\\sigma^2)$, $a$, $b$ and $\\sigma>0$ being unknown parameters."
   ]
  },
  {
   "cell_type": "markdown",
   "metadata": {},
   "source": [
    "\n",
    "### Estimation of parameters"
   ]
  },
  {
   "cell_type": "code",
   "execution_count": null,
   "metadata": {},
   "outputs": [],
   "source": [
    "lr = st.linregress(x,y)\n",
    "lr"
   ]
  },
  {
   "cell_type": "code",
   "execution_count": null,
   "metadata": {},
   "outputs": [],
   "source": [
    "jp.jupyprint(f'The estimations of the parameters $a$ and $b$ are $\\\\hat a =$ {lr.intercept:.3f} \\\n",
    "and $\\\\hat b =$ {lr.slope:.3f} respectively.')"
   ]
  },
  {
   "cell_type": "code",
   "execution_count": null,
   "metadata": {},
   "outputs": [],
   "source": [
    "hy = lr.intercept + lr.slope * x\n",
    "e = y - hy\n",
    "sse = np.sum(e**2)\n",
    "hs2 = sse/(n-2)\n",
    "jp.jupyprint(f'The estimation of the parameter $\\\\sigma^2$ is $\\\\hat\\\\sigma^2$ = {hs2:.3f} .')\n",
    "\n"
   ]
  },
  {
   "cell_type": "markdown",
   "metadata": {},
   "source": [
    "We can see that the $Y$ parameter is widely spread out around the regression line because the prameter $\\sigma^2$ is really big.\n",
    "That's we can see with the following plot where most of the points are far from the regression line."
   ]
  },
  {
   "cell_type": "markdown",
   "metadata": {},
   "source": [
    "### Visualization of the regression"
   ]
  },
  {
   "cell_type": "code",
   "execution_count": null,
   "metadata": {},
   "outputs": [],
   "source": [
    "fit = [lr.slope, lr.intercept]\n",
    "poly = np.poly1d(fit)"
   ]
  },
  {
   "cell_type": "code",
   "execution_count": null,
   "metadata": {},
   "outputs": [],
   "source": [
    "ran = max(x)-min(x)\n",
    "lb = min(x)-ran/20\n",
    "ub = max(x)+ran/20\n",
    "z = [lb, ub]\n",
    "sns.scatterplot(data = df, x = 'co2', y = 'masse_ordma_max', marker = '*')\n",
    "plt.plot(z,poly(z),'r-', linewidth = 0.7)\n",
    "plt.show()"
   ]
  },
  {
   "cell_type": "code",
   "execution_count": null,
   "metadata": {},
   "outputs": [],
   "source": [
    "jp.jupyprint('$R^2$ = {:2.3f}'.format(lr.rvalue**2)+ ' ,   $p$-value = {:1.2e}'.format(lr.pvalue))"
   ]
  },
  {
   "cell_type": "markdown",
   "metadata": {},
   "source": [
    "We can see with the results that the $R^2$ is  $0.25$ that means that the correlation between the two variable is not very strong (if it was strong it would be near $1$).\n",
    "\n",
    "Finally the $p$-value is extremly low wich means that the realtion between the two vriables is still significant but not strong. "
   ]
  },
  {
   "cell_type": "markdown",
   "metadata": {},
   "source": [
    "we can consider as outliers the points which are at a distance from the line superior to twice the standard deviation of the residuals. We can visualize it on a graph."
   ]
  },
  {
   "cell_type": "code",
   "execution_count": null,
   "metadata": {},
   "outputs": [],
   "source": [
    "sns.scatterplot(data = df, x = 'co2', y = 'masse_ordma_max', marker = '*')\n",
    "plt.plot(z,poly(z),'r-', linewidth = 0.7)\n",
    "plt.plot(z,poly(z)+2.5*np.sqrt(hs2),'b--', linewidth = 0.5)\n",
    "plt.plot(z,poly(z)-2.5*np.sqrt(hs2),'b--', linewidth = 0.5)\n",
    "plt.show()"
   ]
  },
  {
   "cell_type": "markdown",
   "metadata": {},
   "source": []
  }
 ],
 "metadata": {
  "kernelspec": {
   "display_name": "Python 3",
   "language": "python",
   "name": "python3"
  },
  "language_info": {
   "codemirror_mode": {
    "name": "ipython",
    "version": 3
   },
   "file_extension": ".py",
   "mimetype": "text/x-python",
   "name": "python",
   "nbconvert_exporter": "python",
   "pygments_lexer": "ipython3",
   "version": "3.10.7"
  }
 },
 "nbformat": 4,
 "nbformat_minor": 2
}
